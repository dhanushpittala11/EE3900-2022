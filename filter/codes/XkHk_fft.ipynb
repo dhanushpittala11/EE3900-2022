{
 "cells": [
  {
   "cell_type": "code",
   "execution_count": 1,
   "metadata": {},
   "outputs": [
    {
     "name": "stderr",
     "output_type": "stream",
     "text": [
      "/home/dhanush/.local/lib/python3.10/site-packages/numpy/ma/core.py:3377: ComplexWarning: Casting complex values to real discards the imaginary part\n",
      "  _data[indx] = dval\n",
      "/home/dhanush/.local/lib/python3.10/site-packages/matplotlib/cbook/__init__.py:1298: ComplexWarning: Casting complex values to real discards the imaginary part\n",
      "  return np.asarray(x, float)\n"
     ]
    },
    {
     "data": {
      "image/png": "[encoded data removed]",
      "text/plain": [
       "<Figure size 432x288 with 3 Axes>"
      ]
     },
     "metadata": {
      "needs_background": "light"
     },
     "output_type": "display_data"
    }
   ],
   "source": [
    "import numpy as np\n",
    "from scipy.fft import fft,ifft\n",
    "import matplotlib.pyplot as plt\n",
    "x=np.array([1,2,3,4,2,1])\n",
    "x=np.pad(x,(0,9),'constant',constant_values=(0))\n",
    "N=15\n",
    "def hn(n):\n",
    "    if n<0:\n",
    "        return 0\n",
    "    if 0<=n<2:\n",
    "       return (-1/2)**n\n",
    "    else:\n",
    "        return (-1/2)**n+(-1/2)**(n-2)\n",
    "#computing the above using fft and ifft\n",
    "xk1=fft(x)\n",
    "htemp=np.array([hn(i) for i in range(N)])\n",
    "hk1=fft(htemp)\n",
    "yk1=xk1*hk1\n",
    "yn1=ifft(yk1)\n",
    "ntemp=np.array(list(range(N)))\n",
    "\n",
    "plt.subplot(3,1,1)\n",
    "plt.stem(range(0,N),xk1)\n",
    "plt.ylabel('$X(n)$')\n",
    "plt.grid()\n",
    "\n",
    "plt.subplot(3,1,2)\n",
    "plt.stem(range(0,N),hk1)\n",
    "plt.ylabel('$H(n)$')\n",
    "plt.grid()\n",
    "\n",
    "plt.subplot(3,1,3)\n",
    "plt.stem(ntemp,yk1)\n",
    "plt.ylabel('$y(n)$')\n",
    "plt.xlabel('$n$')\n",
    "plt.grid()\n",
    "plt.show()"
   ]
  }
 ],
 "metadata": {
  "kernelspec": {
   "display_name": "Python 3.10.4 64-bit",
   "language": "python",
   "name": "python3"
  },
  "language_info": {
   "codemirror_mode": {
    "name": "ipython",
    "version": 3
   },
   "file_extension": ".py",
   "mimetype": "text/x-python",
   "name": "python",
   "nbconvert_exporter": "python",
   "pygments_lexer": "ipython3",
   "version": "3.10.4"
  },
  "orig_nbformat": 4,
  "vscode": {
   "interpreter": {
    "hash": "916dbcbb3f70747c44a77c7bcd40155683ae19c65e1c03b4aa3499c5328201f1"
   }
  }
 },
 "nbformat": 4,
 "nbformat_minor": 2
}
