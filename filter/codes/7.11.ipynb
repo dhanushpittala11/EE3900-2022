{
 "cells": [
  {
   "cell_type": "code",
   "execution_count": 1,
   "metadata": {},
   "outputs": [
    {
     "name": "stdout",
     "output_type": "stream",
     "text": [
      "[13.+0.00000000e+00j -4.-1.73205081e+00j  1.+0.00000000e+00j\n",
      " -1.+1.11022302e-16j  1.-2.22044605e-16j -4.+1.73205081e+00j]\n"
     ]
    }
   ],
   "source": [
    "import numpy as np\n",
    "from numpy.fft import fft, ifft\n",
    "import matplotlib.pyplot as plt\n",
    "#If using termux\n",
    "#import subprocess\n",
    "#import shlex\n",
    "#end if\n",
    "\n",
    "x=np.array([1.0,2.0,3.0,4.0,2.0,1.0])\n",
    "dftmtx = fft(np.eye(len(x)))\n",
    "X = x@dftmtx\n",
    "print(X)"
   ]
  },
  {
   "cell_type": "code",
   "execution_count": null,
   "metadata": {},
   "outputs": [],
   "source": []
  }
 ],
 "metadata": {
  "kernelspec": {
   "display_name": "Python 3.10.4 64-bit",
   "language": "python",
   "name": "python3"
  },
  "language_info": {
   "codemirror_mode": {
    "name": "ipython",
    "version": 3
   },
   "file_extension": ".py",
   "mimetype": "text/x-python",
   "name": "python",
   "nbconvert_exporter": "python",
   "pygments_lexer": "ipython3",
   "version": "3.10.4"
  },
  "orig_nbformat": 4,
  "vscode": {
   "interpreter": {
    "hash": "31f2aee4e71d21fbe5cf8b01ff0e069b9275f58929596ceb00d14d90e3e16cd6"
   }
  }
 },
 "nbformat": 4,
 "nbformat_minor": 2
}
