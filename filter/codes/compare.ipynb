{
 "cells": [
  {
   "cell_type": "code",
   "execution_count": 4,
   "metadata": {},
   "outputs": [
    {
     "data": {
      "image/png": "[encoded data removed]",
      "text/plain": [
       "<Figure size 640x480 with 1 Axes>"
      ]
     },
     "metadata": {},
     "output_type": "display_data"
    }
   ],
   "source": [
    "from turtle import color\n",
    "import matplotlib .pyplot as plt\n",
    "import numpy as np\n",
    "\n",
    "y1 = np.loadtxt(\"data.dat\",dtype = np.double)\n",
    "\n",
    "\n",
    "N = 14\n",
    "n = np.arange(N)\n",
    "fn=(-1/2)**n\n",
    "hn1=np.pad(fn, (0,2), 'constant', constant_values=(0))\n",
    "hn2=np.pad(fn, (2,0), 'constant', constant_values=(0))\n",
    "h = hn1+hn2\n",
    "\n",
    "xtemp=np.array([1.0,2.0,3.0,4.0,2.0,1.0])\n",
    "x=np.pad(xtemp, (0,8), 'constant', constant_values=(0))\n",
    "\n",
    "X = np.zeros(N) + 1j*np.zeros(N)\n",
    "for k in range(0,N):\n",
    "\tfor n in range(0,N):\n",
    "\t\tX[k]+=x[n]*np.exp(-1j*2*np.pi*n*k/N)\n",
    "H = np.zeros(N) + 1j*np.zeros(N)\n",
    "for k in range(0,N):\n",
    "\tfor n in range(0,N):\n",
    "\t\tH[k]+=h[n]*np.exp(-1j*2*np.pi*n*k/N)\n",
    "\n",
    "Y = np.zeros(N) + 1j*np.zeros(N)\n",
    "for k in range(0,N):\n",
    "\tY[k] = X[k]*H[k]\n",
    "\n",
    "y2 = np.zeros(N) + 1j*np.zeros(N)\n",
    "for k in range(0,N):\n",
    "\tfor n in range(0,N):\n",
    "\t\ty2[k]+=Y[n]*np.exp(1j*2*np.pi*n*k/N)\n",
    "\n",
    "#print(X)\n",
    "y2 = np.real(y2)/N\n",
    "\n",
    "# plt.stem(range(0,19),y1,label='sin')\n",
    "# plt.setp('blue', plt.getp(markerline,'blue'))\n",
    "# # plt.setp(stemlines, 'linestyle', 'dotted')\n",
    "\n",
    "# plt.stem(range(0,N),y2,label = 'cos')\n",
    "# plt.setp('red', plt.getp(markerline,'red'))\n",
    "# # plt.setp(stemlines, 'linestyle', 'dotted')\n",
    "\n",
    "# plt.title('Filter Output using DFT')\n",
    "# plt.xlabel('$n$')\n",
    "# plt.ylabel('$y(n)$')\n",
    "# plt.grid()\n",
    "# plt.show()\n",
    "\n",
    "plt.stem(range(0,19),y1, 'b', markerfmt='go', label='y1')\n",
    "plt.stem(range(0,N),y2, 'g', markerfmt='bo', label='y2')\n",
    "plt.legend()\n",
    "plt.grid()\n",
    "plt.show()"
   ]
  },
  {
   "cell_type": "code",
   "execution_count": null,
   "metadata": {},
   "outputs": [],
   "source": []
  }
 ],
 "metadata": {
  "kernelspec": {
   "display_name": "Python 3.9.7 ('base')",
   "language": "python",
   "name": "python3"
  },
  "language_info": {
   "codemirror_mode": {
    "name": "ipython",
    "version": 3
   },
   "file_extension": ".py",
   "mimetype": "text/x-python",
   "name": "python",
   "nbconvert_exporter": "python",
   "pygments_lexer": "ipython3",
   "version": "3.9.7"
  },
  "orig_nbformat": 4,
  "vscode": {
   "interpreter": {
    "hash": "e9219923bdf2a9b400a653a3b8ff652ecffc24615f3cb2e1d804cf72dbbfba8d"
   }
  }
 },
 "nbformat": 4,
 "nbformat_minor": 2
}
