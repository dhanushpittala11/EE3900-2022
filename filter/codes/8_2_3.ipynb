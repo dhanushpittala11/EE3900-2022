{
 "cells": [
  {
   "cell_type": "code",
   "execution_count": 1,
   "metadata": {},
   "outputs": [
    {
     "name": "stderr",
     "output_type": "stream",
     "text": [
      "/home/dhanush/.local/lib/python3.10/site-packages/numpy/lib/function_base.py:2414: ComplexWarning: Casting complex values to real discards the imaginary part\n",
      "  res = asanyarray(outputs, dtype=otypes[0])\n"
     ]
    },
    {
     "data": {
      "image/png": "[encoded data removed]",
      "text/plain": [
       "<Figure size 432x288 with 1 Axes>"
      ]
     },
     "metadata": {
      "needs_background": "light"
     },
     "output_type": "display_data"
    }
   ],
   "source": [
    "import soundfile as sf\n",
    "import matplotlib.pyplot as plt\n",
    "from scipy import signal\n",
    "from scipy import vectorize as vec\n",
    "import numpy as np\n",
    "\n",
    "#read .wav file\n",
    "input_signal, fs = sf.read('/home/dhanush/Downloads/filter_codes_filter_codes_Sound_Noise.wav')\n",
    "\n",
    "#sampling frequency of Input signal\n",
    "sampl_freq=fs\n",
    "\n",
    "#order of the filter\n",
    "order=7\n",
    "\n",
    "#cutoff frquency 4kHz\n",
    "cutoff_freq=4000.0\n",
    "\n",
    "#digital frequency\n",
    "Wn=2*cutoff_freq/sampl_freq\n",
    "\n",
    "# b and a are numerator and denominator polynomials respectively\n",
    "b, a = signal.butter(order, Wn, 'low')\n",
    "output_signal = signal.filtfilt(b, a, input_signal)\n",
    "\n",
    "# get partial fraction expansion\n",
    "r, p, k = signal.residuez(b, a)\n",
    "#number of terms of the impulse response\n",
    "sz = 64\n",
    "sz_lin = np.arange(sz)\n",
    "\n",
    "dftmtx = np.fft.fft(np.eye(sz))\n",
    "invmtx = np.linalg.inv(dftmtx)\n",
    "def rp(x):\n",
    "    return r@(p**x).T\n",
    "\n",
    "rp_vec = vec(rp, otypes=['double'])\n",
    "\n",
    "h1 = rp_vec(sz_lin)\n",
    "k_add = np.pad(k, (0, sz - len(k)), 'constant', constant_values=(0,0))\n",
    "h = h1 + k_add\n",
    "H = h@dftmtx\n",
    "X = input_signal[:sz]@dftmtx\n",
    "Y = H*X\n",
    "y = (Y@invmtx).real\n",
    "plt.stem(np.arange(sz), y[:sz])\n",
    "plt.xlabel('n')\n",
    "plt.ylabel('y(n)')\n",
    "plt.grid()\n",
    "plt.show()"
   ]
  },
  {
   "cell_type": "code",
   "execution_count": null,
   "metadata": {},
   "outputs": [],
   "source": []
  }
 ],
 "metadata": {
  "kernelspec": {
   "display_name": "Python 3.10.4 64-bit",
   "language": "python",
   "name": "python3"
  },
  "language_info": {
   "codemirror_mode": {
    "name": "ipython",
    "version": 3
   },
   "file_extension": ".py",
   "mimetype": "text/x-python",
   "name": "python",
   "nbconvert_exporter": "python",
   "pygments_lexer": "ipython3",
   "version": "3.10.4"
  },
  "orig_nbformat": 4,
  "vscode": {
   "interpreter": {
    "hash": "916dbcbb3f70747c44a77c7bcd40155683ae19c65e1c03b4aa3499c5328201f1"
   }
  }
 },
 "nbformat": 4,
 "nbformat_minor": 2
}
