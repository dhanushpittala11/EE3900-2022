{
 "cells": [
  {
   "cell_type": "code",
   "execution_count": 1,
   "metadata": {},
   "outputs": [
    {
     "name": "stderr",
     "output_type": "stream",
     "text": [
      "c:\\Users\\DHANUSH PITTALA\\anaconda3\\lib\\site-packages\\numpy\\ma\\core.py:3375: ComplexWarning: Casting complex values to real discards the imaginary part\n",
      "  _data[indx] = dval\n",
      "c:\\Users\\DHANUSH PITTALA\\anaconda3\\lib\\site-packages\\numpy\\core\\_asarray.py:102: ComplexWarning: Casting complex values to real discards the imaginary part\n",
      "  return array(a, dtype, copy=False, order=order)\n",
      "c:\\Users\\DHANUSH PITTALA\\anaconda3\\lib\\site-packages\\numpy\\core\\_asarray.py:102: ComplexWarning: Casting complex values to real discards the imaginary part\n",
      "  return array(a, dtype, copy=False, order=order)\n"
     ]
    },
    {
     "data": {
      "image/png": "[encoded data removed]",
      "text/plain": [
       "<Figure size 640x480 with 1 Axes>"
      ]
     },
     "metadata": {},
     "output_type": "display_data"
    }
   ],
   "source": [
    "import numpy as np\n",
    "import matplotlib.pyplot as plt\n",
    "\n",
    "N = 14\n",
    "\n",
    "x=np.array([1.0,2.0,3.0,4.0,2.0,1.0])\n",
    "nx = len(x)\n",
    "\n",
    "x=np.pad(x, (0,8), 'constant', constant_values=(0))\n",
    "\n",
    "k = np.arange(N)\n",
    "\n",
    "# Z = np.linspace(0,2*np.pi*k,N+1) #z[i][j] such that i<k & j<N.\n",
    "# print(Z/np.pi)\n",
    "\n",
    "X = np.zeros(N)+ 1j*np.zeros(N)\n",
    "for i in range(N):\n",
    "    for j in range(N):\n",
    "        X[i] += + x[j] * np.exp((1j*2*np.pi*i*j)/N)\n",
    "\n",
    "# print(X) \n",
    "\n",
    "n = np.arange(N)\n",
    "fn=(-1/2)**n\n",
    "hn1=np.pad(fn, (0,2), 'constant', constant_values=(0))\n",
    "hn2=np.pad(fn, (2,0), 'constant', constant_values=(0))\n",
    "h = hn1+hn2\n",
    "# plt.stem(np.arange(12), hn1+hn2)\n",
    "\n",
    "H=np.zeros(N)+ 1j*np.zeros(N)\n",
    "\n",
    "for i in range(N):\n",
    "    for j in range(N):\n",
    "        H[i] += h[j] * np.exp((1j*2*np.pi*i*j)/N)\n",
    "\n",
    "Y = np.zeros(N)+1j*np.zeros(N)\n",
    "for i in range(N):\n",
    "    Y[i] = X[i]*H[i]\n",
    "\n",
    "# plt.subplot(2,1,2)\n",
    "plt.stem(range(0,N),Y)\n",
    "plt.xlabel('$k$')\n",
    "plt.ylabel('$Y(k)$')\n",
    "plt.grid()\n",
    "\n",
    "plt.show()"
   ]
  },
  {
   "cell_type": "code",
   "execution_count": null,
   "metadata": {},
   "outputs": [],
   "source": []
  }
 ],
 "metadata": {
  "kernelspec": {
   "display_name": "Python 3.9.7 ('base')",
   "language": "python",
   "name": "python3"
  },
  "language_info": {
   "codemirror_mode": {
    "name": "ipython",
    "version": 3
   },
   "file_extension": ".py",
   "mimetype": "text/x-python",
   "name": "python",
   "nbconvert_exporter": "python",
   "pygments_lexer": "ipython3",
   "version": "3.9.7"
  },
  "orig_nbformat": 4,
  "vscode": {
   "interpreter": {
    "hash": "e9219923bdf2a9b400a653a3b8ff652ecffc24615f3cb2e1d804cf72dbbfba8d"
   }
  }
 },
 "nbformat": 4,
 "nbformat_minor": 2
}
