{
 "cells": [
  {
   "cell_type": "code",
   "execution_count": 16,
   "metadata": {},
   "outputs": [],
   "source": [
    "import soundfile as sf\n",
    "from scipy import signal\n",
    "\n",
    "#read .wav file \n",
    "input_signal,fs = sf.read('/home/dhanush/Downloads/filter_codes_filter_codes_Sound_Noise.wav') \n",
    "\n",
    "#sampling frequency of Input signal\n",
    "sampl_freq=fs\n",
    "\n",
    "#order of the filter\n",
    "order=4   \n",
    "\n",
    "#cutoff frquency 4kHz\n",
    "cutoff_freq=4000.0  \n",
    "\n",
    "#digital frequency\n",
    "Wn=2*cutoff_freq/sampl_freq  \n",
    "\n",
    "# b and a are numerator and denominator polynomials respectively\n",
    "b, a = signal.butter(order,Wn, 'low') \n",
    "\n",
    "#filter the input signal with butterworth filter\n",
    "output_signal = signal.filtfilt(b, a, input_signal)\n",
    "#output_signal = signal.lfilter(b, a, input_signal)\n",
    "\n",
    "#write the output signal into .wav file\n",
    "sf.write('/home/dhanush/Downloads/Sound_With_ReducedNoise.wav', output_signal, fs)"
   ]
  }
 ],
 "metadata": {
  "kernelspec": {
   "display_name": "Python 3.10.4 64-bit",
   "language": "python",
   "name": "python3"
  },
  "language_info": {
   "codemirror_mode": {
    "name": "ipython",
    "version": 3
   },
   "file_extension": ".py",
   "mimetype": "text/x-python",
   "name": "python",
   "nbconvert_exporter": "python",
   "pygments_lexer": "ipython3",
   "version": "3.10.4"
  },
  "orig_nbformat": 4,
  "vscode": {
   "interpreter": {
    "hash": "31f2aee4e71d21fbe5cf8b01ff0e069b9275f58929596ceb00d14d90e3e16cd6"
   }
  }
 },
 "nbformat": 4,
 "nbformat_minor": 2
}
