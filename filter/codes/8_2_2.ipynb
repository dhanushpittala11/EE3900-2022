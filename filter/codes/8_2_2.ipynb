{
 "cells": [
  {
   "cell_type": "code",
   "execution_count": 1,
   "metadata": {},
   "outputs": [
    {
     "data": {
      "image/png": "[encoded data removed]",
      "text/plain": [
       "<Figure size 432x288 with 1 Axes>"
      ]
     },
     "metadata": {
      "needs_background": "light"
     },
     "output_type": "display_data"
    }
   ],
   "source": [
    "import numpy as np\n",
    "import matplotlib.pyplot as plt\n",
    "from scipy import signal\n",
    "import soundfile as sf\n",
    "\n",
    "# if using termux\n",
    "# import subprocess\n",
    "# import shlex\n",
    "# end if\n",
    "\n",
    "# read .wav file\n",
    "input_signal, fs = sf.read('/home/dhanush/Downloads/filter_codes_filter_codes_Sound_Noise.wav')\n",
    "\n",
    "# sampling frequency of Input signal\n",
    "sampl_freq = fs\n",
    "\n",
    "# order of the filter\n",
    "order = 4\n",
    "\n",
    "# cutoff frquency 4kHz\n",
    "cutoff_freq = 4000.0\n",
    "\n",
    "# digital frequency\n",
    "Wn = 2 * cutoff_freq / sampl_freq\n",
    "\n",
    "# b and a are numerator and denominator polynomials respectively\n",
    "b, a = signal.butter(order, Wn, 'low')\n",
    "\n",
    "\n",
    "# DTFT\n",
    "def H(z):\n",
    "    num = np.polyval(b, z ** (-1))\n",
    "    den = np.polyval(a, z ** (-1))\n",
    "    H = num / den\n",
    "    return H\n",
    "\n",
    "\n",
    "# Input and Output\n",
    "omega = np.linspace(0, np.pi, 100)\n",
    "\n",
    "# subplots\n",
    "plt.plot(omega, abs(H(np.exp(1j * omega))))\n",
    "plt.xlabel('$\\omega$')\n",
    "plt.ylabel('$|H(e^{\\jmath\\omega})| $')\n",
    "plt.grid()  # minor\n",
    "\n",
    "# if using termux\n",
    "# plt.savefig('../figs/prob_7-2-2.png')\n",
    "# plt.savefig('../figs/prob_7-2-2.eps')\n",
    "# plt.savefig('../figs/prob_7-2-2.pdf')\n",
    "# subprocess.run(shlex.split(\"termux-open ../figs/dtft.pdf\"))\n",
    "# else\n",
    "plt.show()"
   ]
  },
  {
   "cell_type": "code",
   "execution_count": null,
   "metadata": {},
   "outputs": [],
   "source": []
  }
 ],
 "metadata": {
  "kernelspec": {
   "display_name": "Python 3.10.4 64-bit",
   "language": "python",
   "name": "python3"
  },
  "language_info": {
   "codemirror_mode": {
    "name": "ipython",
    "version": 3
   },
   "file_extension": ".py",
   "mimetype": "text/x-python",
   "name": "python",
   "nbconvert_exporter": "python",
   "pygments_lexer": "ipython3",
   "version": "3.10.4"
  },
  "orig_nbformat": 4,
  "vscode": {
   "interpreter": {
    "hash": "916dbcbb3f70747c44a77c7bcd40155683ae19c65e1c03b4aa3499c5328201f1"
   }
  }
 },
 "nbformat": 4,
 "nbformat_minor": 2
}
